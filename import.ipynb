{
 "cells": [
  {
   "cell_type": "code",
   "execution_count": 4,
   "id": "fff5fda2",
   "metadata": {},
   "outputs": [
    {
     "name": "stdout",
     "output_type": "stream",
     "text": [
      "Downloading MNIST dataset from Kaggle...\n",
      "Downloaded to: /home/holmen1/.cache/kagglehub/datasets/hojjatk/mnist-dataset/versions/1\n",
      "Copying files to data folder...\n",
      "Copied: t10k-images.idx3-ubyte\n",
      "Copied: t10k-labels.idx1-ubyte\n",
      "Copied: train-images.idx3-ubyte\n",
      "Copied: train-labels.idx1-ubyte\n",
      "\n",
      "Files are now in: /home/holmen1/repos/mnist-from-scratch/data\n",
      "Downloaded to: /home/holmen1/.cache/kagglehub/datasets/hojjatk/mnist-dataset/versions/1\n",
      "Copying files to data folder...\n",
      "Copied: t10k-images.idx3-ubyte\n",
      "Copied: t10k-labels.idx1-ubyte\n",
      "Copied: train-images.idx3-ubyte\n",
      "Copied: train-labels.idx1-ubyte\n",
      "\n",
      "Files are now in: /home/holmen1/repos/mnist-from-scratch/data\n"
     ]
    }
   ],
   "source": [
    "import kagglehub\n",
    "import shutil\n",
    "import os\n",
    "from pathlib import Path\n",
    "\n",
    "# Download latest version\n",
    "print(\"Downloading MNIST dataset from Kaggle...\")\n",
    "path = kagglehub.dataset_download(\"hojjatk/mnist-dataset\")\n",
    "print(\"Downloaded to:\", path)\n",
    "\n",
    "# Copy files to our data folder\n",
    "data_dir = Path(\"./data\")\n",
    "data_dir.mkdir(exist_ok=True)\n",
    "\n",
    "print(\"Copying files to data folder...\")\n",
    "for file_path in Path(path).glob(\"*\"):\n",
    "    if file_path.is_file():\n",
    "        dest_path = data_dir / file_path.name\n",
    "        shutil.copy2(file_path, dest_path)\n",
    "        print(f\"Copied: {file_path.name}\")\n",
    "\n",
    "print(f\"\\nFiles are now in: {data_dir.absolute()}\")"
   ]
  },
  {
   "cell_type": "code",
   "execution_count": 14,
   "id": "997faa53",
   "metadata": {},
   "outputs": [],
   "source": [
    "# Helper function to show a list of images with their relating titles\n",
    "#\n",
    "def show_images(images, title_texts):\n",
    "    cols = 5\n",
    "    rows = int(len(images)/cols) + 1\n",
    "    plt.figure(figsize=(30,20))\n",
    "    index = 1    \n",
    "    for x in zip(images, title_texts):        \n",
    "        image = x[0]        \n",
    "        title_text = x[1]\n",
    "        plt.subplot(rows, cols, index)        \n",
    "        plt.imshow(image, cmap=plt.cm.gray)\n",
    "        if (title_text != ''):\n",
    "            plt.title(title_text, fontsize = 15);        \n",
    "        index += 1"
   ]
  },
  {
   "cell_type": "code",
   "execution_count": null,
   "id": "bae0a20c",
   "metadata": {},
   "outputs": [],
   "source": []
  }
 ],
 "metadata": {
  "kernelspec": {
   "display_name": "venv",
   "language": "python",
   "name": "python3"
  },
  "language_info": {
   "codemirror_mode": {
    "name": "ipython",
    "version": 3
   },
   "file_extension": ".py",
   "mimetype": "text/x-python",
   "name": "python",
   "nbconvert_exporter": "python",
   "pygments_lexer": "ipython3",
   "version": "3.13.7"
  }
 },
 "nbformat": 4,
 "nbformat_minor": 5
}
