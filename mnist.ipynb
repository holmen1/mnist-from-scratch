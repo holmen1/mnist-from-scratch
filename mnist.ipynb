{
 "cells": [
  {
   "cell_type": "code",
   "execution_count": 1,
   "id": "fff5fda2",
   "metadata": {},
   "outputs": [],
   "source": [
    "%matplotlib inline\n",
    "\n",
    "import numpy as np\n",
    "import matplotlib.pyplot as plt\n",
    "\n",
    "from utils.data_loader import MnistDataloader\n",
    "from models.neural_network import NeuralNetwork"
   ]
  },
  {
   "cell_type": "code",
   "execution_count": 2,
   "id": "c613f892",
   "metadata": {},
   "outputs": [],
   "source": [
    "training_images_filepath = 'data/train-images.idx3-ubyte'\n",
    "training_labels_filepath = 'data/train-labels.idx1-ubyte'  \n",
    "test_images_filepath = 'data/t10k-images.idx3-ubyte'\n",
    "test_labels_filepath = 'data/t10k-labels.idx1-ubyte'\n",
    "\n",
    "\n",
    "mnist_dataloader = MnistDataloader(training_images_filepath, training_labels_filepath, test_images_filepath, test_labels_filepath)\n",
    "(x_train, y_train), (x_test, y_test) = mnist_dataloader.load_data()"
   ]
  },
  {
   "cell_type": "code",
   "execution_count": 3,
   "id": "51a4232b",
   "metadata": {},
   "outputs": [],
   "source": [
    "x = np.array(x_train)\n",
    "x = x.reshape((x.shape[0], -1))  # Flatten images to 1D vectors\n",
    "x = x.astype('float32') / 255.0  # Normalize pixel values to [0, 1]\n",
    "y = np.array(y_train)"
   ]
  },
  {
   "cell_type": "code",
   "execution_count": 4,
   "id": "471a18e1",
   "metadata": {},
   "outputs": [
    {
     "name": "stdout",
     "output_type": "stream",
     "text": [
      "Epoch 0: Loss = 2.3019, Accuracy = 0.1196\n"
     ]
    }
   ],
   "source": [
    "NN = NeuralNetwork(input_size=784, hidden_size=128, output_size=10)\n",
    "NN.train(x, y, epochs=10, learning_rate=0.01)"
   ]
  },
  {
   "cell_type": "code",
   "execution_count": null,
   "id": "67885e11",
   "metadata": {},
   "outputs": [],
   "source": []
  }
 ],
 "metadata": {
  "kernelspec": {
   "display_name": "venv",
   "language": "python",
   "name": "python3"
  },
  "language_info": {
   "codemirror_mode": {
    "name": "ipython",
    "version": 3
   },
   "file_extension": ".py",
   "mimetype": "text/x-python",
   "name": "python",
   "nbconvert_exporter": "python",
   "pygments_lexer": "ipython3",
   "version": "3.13.7"
  }
 },
 "nbformat": 4,
 "nbformat_minor": 5
}
